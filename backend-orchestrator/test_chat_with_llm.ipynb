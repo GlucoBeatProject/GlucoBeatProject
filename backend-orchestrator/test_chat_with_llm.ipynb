{
 "cells": [
  {
   "cell_type": "code",
   "execution_count": 13,
   "id": "78394fb6",
   "metadata": {},
   "outputs": [],
   "source": [
    "# main.py\n",
    "from fastapi import FastAPI, Request, Query, Path, HTTPException, status\n",
    "from pydantic import BaseModel\n",
    "from datetime import date, datetime, timedelta\n",
    "from typing import List, Optional\n",
    "from fastapi.responses import JSONResponse\n",
    "import json\n",
    "\n",
    "from graph_builder import build_graph\n",
    "from tools import query_db_mcp\n",
    "from config import config\n",
    "import uvicorn\n",
    "import random\n",
    "import asyncio\n",
    "\n",
    "from fastapi.middleware.cors import CORSMiddleware\n",
    "\n",
    "# services/llm_service.py에서 새로운 에이전트 함수 임포트\n",
    "from services.llm_service import agent_chat_with_claude, generate_and_update_chat_title"
   ]
  },
  {
   "cell_type": "code",
   "execution_count": 14,
   "id": "8c1dffb8",
   "metadata": {},
   "outputs": [],
   "source": [
    "# /chat/{chat_id}/message 요청 모델\n",
    "class NewMessage(BaseModel): #! 수정 필요 - role 추가, 이 role은 User 아니면 AI.\n",
    "    msg: str"
   ]
  },
  {
   "cell_type": "code",
   "execution_count": 29,
   "id": "9ce12040",
   "metadata": {},
   "outputs": [],
   "source": [
    "new_message = NewMessage\n",
    "new_message.msg = \"감사합니다.\"\n",
    "chat_id = 8106"
   ]
  },
  {
   "cell_type": "code",
   "execution_count": null,
   "id": "fb9d6f46",
   "metadata": {},
   "outputs": [],
   "source": [
    "chat_history = []\n",
    "try:\n",
    "    #? 1. DB에서 전체 대화 기록 조회 (새 스키마에 맞게 수정)\n",
    "    history_query = f\"SELECT message FROM chat_messages WHERE chat_id = {chat_id} ORDER BY created_at ASC\"\n",
    "    db_result = await query_db_mcp(db_id=config.GLUCOBEAT_DB_ID, query=history_query, query_type=\"query\")\n",
    "    \n",
    "    for row in db_result.get(\"rows\"):\n",
    "        if row.get(\"message\"):\n",
    "            message_text = json.loads(row[\"message\"])\n",
    "            chat_history.append(message_text)\n",
    "            \n",
    "except Exception as e:\n",
    "    print(f\"WARN: DB에서 채팅 기록 조회 실패: {e}\")\n",
    "    chat_history = []"
   ]
  },
  {
   "cell_type": "code",
   "execution_count": 39,
   "id": "076a54cf",
   "metadata": {},
   "outputs": [],
   "source": [
    "try:\n",
    "    #? 2. 사용자 메시지를 DB에 INSERT (간단한 JSON 구조로 저장)\n",
    "    # 이때 이러한 사용자 메시지는 아래처럼 저장해야. \n",
    "    import json\n",
    "    user_message = {\"role\": \"user\", \"content\": new_message.msg}\n",
    "    message_json = json.dumps(user_message, ensure_ascii=False).replace(\"'\", \"''\")\n",
    "    user_sql = f\"INSERT INTO chat_messages (chat_id, message) VALUES ({chat_id}, '{message_json}')\"\n",
    "    await query_db_mcp(db_id=config.GLUCOBEAT_DB_ID, query=user_sql, query_type=\"query\")\n",
    "except Exception as e:\n",
    "    print(f\"ERROR: 사용자 메시지 DB 저장 실패: {e}\")"
   ]
  },
  {
   "cell_type": "code",
   "execution_count": 40,
   "id": "7421085f",
   "metadata": {},
   "outputs": [
    {
     "name": "stdout",
     "output_type": "stream",
     "text": [
      "INSERT INTO chat_messages (chat_id, message) VALUES (8106, '{\"role\": \"user\", \"content\": \"감사합니다.\"}')\n"
     ]
    }
   ],
   "source": [
    "print(user_sql)"
   ]
  },
  {
   "cell_type": "code",
   "execution_count": 41,
   "id": "b45f8ed8",
   "metadata": {},
   "outputs": [
    {
     "name": "stdout",
     "output_type": "stream",
     "text": [
      "DEBUG: Final chat_history before LLM call: [{'role': 'user', 'content': '혈당 수치를 정리해 주세요.'}, {'role': 'assistant', 'content': '혈당 수치를 정리해드리겠습니다. 먼저 데이터베이스에서 혈당 기록을 조회하겠습니다.'}, {'role': 'tool', 'content': \"{'columns': ['time', 'id', 'cgm_value'], 'rows': [{'time': '2025-06-29T18:00:00', 'id': 1, 'cgm_value': 130.0}, {'time': '2025-06-29T12:00:00', 'id': 1, 'cgm_value': 125.0}, {'time': '2025-06-29T08:00:00', 'id': 1, 'cgm_value': 110.0}, {'time': '2025-06-25T12:00:00', 'id': 1, 'cgm_value': 150.0}]}\"}, {'role': 'assistant', 'content': '혈당 수치 정리:\\n\\n## 최근 혈당 기록 (CGM 수치)\\n\\n| 날짜 및 시간 | 혈당 수치 (mg/dL) |\\n|-------------|------------------|\\n| 2025-06-29 18:00 | 130.0 |\\n| 2025-06-29 12:00 | 125.0 |\\n| 2025-06-29 08:00 | 110.0 |\\n| 2025-06-25 12:00 | 150.0 |\\n\\n## 혈당 수치 분석\\n\\n**최신 혈당 수치**: 130 mg/dL (2025-06-29 18:00)\\n\\n**혈당 범위**:\\n- 최고: 150 mg/dL (2025-06-25)\\n- 최저: 110 mg/dL (2025-06-29 아침)\\n\\n**혈당 수치 평가**:\\n- 110 mg/dL: 정상 범위\\n- 125-130 mg/dL: 약간 높음 (식후 또는 스트레스 상황)\\n- 150 mg/dL: 높음 (주의 필요)\\n\\n일반적으로 건강한 성인의 혈당 수치는:\\n- 공복 시: 70-100 mg/dL\\n- 식후 2시간: 140 mg/dL 미만\\n\\n지속적인 모니터링과 함께 의료진과 상담하시기를 권장합니다.'}, {'role': 'user', 'content': '감사합니다.'}, {'role': 'user', 'content': '감사합니다.'}]\n"
     ]
    }
   ],
   "source": [
    "#? 3. LLM 호출을 위해 현재 메시지를 대화 기록에 추가\n",
    "# 이는 아래처럼 추가해야 하는 수 밖에.\n",
    "chat_history.append(user_message)\n",
    "\n",
    "print(f\"DEBUG: Final chat_history before LLM call: {chat_history}\")  # 디버깅 로그"
   ]
  },
  {
   "cell_type": "code",
   "execution_count": 42,
   "id": "e35f5430",
   "metadata": {},
   "outputs": [],
   "source": [
    "#? 4. 첫 번째 메시지인 경우 제목 생성과 LLM 응답을 병렬로 처리\n",
    "if len(chat_history) == 1:\n",
    "    # 첫 번째 사용자 메시지 - 제목 생성과 LLM 응답을 병렬 실행\n",
    "    print(f\"DEBUG: 첫 번째 메시지 감지 - 병렬 처리 시작\")\n",
    "    llm_task = agent_chat_with_claude(chat_history)\n",
    "    title_task = generate_and_update_chat_title(chat_id, new_message.msg)\n",
    "    \n",
    "    # 병렬 실행 후 결과 수집\n",
    "    llm_message_list, generated_title = await asyncio.gather(llm_task, title_task)\n",
    "    print(f\"DEBUG: 병렬 처리 완료 - 제목: '{generated_title}'\")\n",
    "    print(f\"DEBUG: 병렬 처리 완료 - 응답: '{llm_message_list}'\")\n",
    "else:\n",
    "    # 기존 메시지 - 일반 LLM 응답만 처리\n",
    "    llm_message_list = await agent_chat_with_claude(chat_history)"
   ]
  },
  {
   "cell_type": "code",
   "execution_count": 43,
   "id": "27b5f162",
   "metadata": {},
   "outputs": [
    {
     "data": {
      "text/plain": [
       "[{'role': 'user', 'content': '혈당 수치를 정리해 주세요.'},\n",
       " {'role': 'assistant',\n",
       "  'content': '혈당 수치를 정리해드리겠습니다. 먼저 데이터베이스에서 혈당 기록을 조회하겠습니다.'},\n",
       " {'role': 'tool',\n",
       "  'content': \"{'columns': ['time', 'id', 'cgm_value'], 'rows': [{'time': '2025-06-29T18:00:00', 'id': 1, 'cgm_value': 130.0}, {'time': '2025-06-29T12:00:00', 'id': 1, 'cgm_value': 125.0}, {'time': '2025-06-29T08:00:00', 'id': 1, 'cgm_value': 110.0}, {'time': '2025-06-25T12:00:00', 'id': 1, 'cgm_value': 150.0}]}\"},\n",
       " {'role': 'assistant',\n",
       "  'content': '혈당 수치 정리:\\n\\n## 최근 혈당 기록 (CGM 수치)\\n\\n| 날짜 및 시간 | 혈당 수치 (mg/dL) |\\n|-------------|------------------|\\n| 2025-06-29 18:00 | 130.0 |\\n| 2025-06-29 12:00 | 125.0 |\\n| 2025-06-29 08:00 | 110.0 |\\n| 2025-06-25 12:00 | 150.0 |\\n\\n## 혈당 수치 분석\\n\\n**최신 혈당 수치**: 130 mg/dL (2025-06-29 18:00)\\n\\n**혈당 범위**:\\n- 최고: 150 mg/dL (2025-06-25)\\n- 최저: 110 mg/dL (2025-06-29 아침)\\n\\n**혈당 수치 평가**:\\n- 110 mg/dL: 정상 범위\\n- 125-130 mg/dL: 약간 높음 (식후 또는 스트레스 상황)\\n- 150 mg/dL: 높음 (주의 필요)\\n\\n일반적으로 건강한 성인의 혈당 수치는:\\n- 공복 시: 70-100 mg/dL\\n- 식후 2시간: 140 mg/dL 미만\\n\\n지속적인 모니터링과 함께 의료진과 상담하시기를 권장합니다.'},\n",
       " {'role': 'user', 'content': '감사합니다.'},\n",
       " {'role': 'user', 'content': '감사합니다.'},\n",
       " {'role': 'assistant',\n",
       "  'content': '천만에요! 혈당 수치 정리가 도움이 되었다니 다행입니다. \\n\\n혈당 관리는 꾸준한 모니터링이 중요하니, 언제든지 추가로 혈당 데이터 분석이나 건강 관련 정보가 필요하시면 말씀해 주세요. 건강하세요! 😊'}]"
      ]
     },
     "execution_count": 43,
     "metadata": {},
     "output_type": "execute_result"
    }
   ],
   "source": [
    "llm_message_list"
   ]
  },
  {
   "cell_type": "code",
   "execution_count": 44,
   "id": "8580fc59",
   "metadata": {},
   "outputs": [],
   "source": [
    "#? 5. 받은 메시지 리스트에서 새로 추가된 부분만 DB에 저장\n",
    "original_length = len(chat_history)\n",
    "new_messages = llm_message_list[original_length:]  # 새로 추가된 AI/Tool 메시지들\n"
   ]
  },
  {
   "cell_type": "code",
   "execution_count": 45,
   "id": "8a552339",
   "metadata": {},
   "outputs": [
    {
     "data": {
      "text/plain": [
       "[{'role': 'assistant',\n",
       "  'content': '천만에요! 혈당 수치 정리가 도움이 되었다니 다행입니다. \\n\\n혈당 관리는 꾸준한 모니터링이 중요하니, 언제든지 추가로 혈당 데이터 분석이나 건강 관련 정보가 필요하시면 말씀해 주세요. 건강하세요! 😊'}]"
      ]
     },
     "execution_count": 45,
     "metadata": {},
     "output_type": "execute_result"
    }
   ],
   "source": [
    "new_messages"
   ]
  },
  {
   "cell_type": "code",
   "execution_count": 46,
   "id": "a8353eba",
   "metadata": {},
   "outputs": [],
   "source": [
    "try:\n",
    "    if new_messages:\n",
    "        for message in new_messages:\n",
    "            message_json_string = json.dumps(message, ensure_ascii=False)\n",
    "            \n",
    "            # 플레이스홀더를 '?'에서 '%s'로 수정\n",
    "            llm_sql = \"INSERT INTO chat_messages (chat_id, message) VALUES (%s, %s)\"\n",
    "            \n",
    "            params_tuple = (chat_id, message_json_string)\n",
    "            \n",
    "            # query_type은 서버에서 특별히 처리하지 않으므로 \"query\"로 유지해도 무방합니다.\n",
    "            await query_db_mcp(\n",
    "                db_id=config.GLUCOBEAT_DB_ID,\n",
    "                query=llm_sql,\n",
    "                params=params_tuple,\n",
    "                query_type=\"query\" \n",
    "            )\n",
    "\n",
    "except Exception as e:\n",
    "    print(f\"WARN: LLM 응답 DB 저장 실패: {e}\")"
   ]
  },
  {
   "cell_type": "markdown",
   "id": "73677282",
   "metadata": {},
   "source": [
    "---"
   ]
  },
  {
   "cell_type": "code",
   "execution_count": 1,
   "id": "455049bd",
   "metadata": {},
   "outputs": [],
   "source": [
    "import os\n",
    "import asyncio\n",
    "from typing import List, Dict, Any, AsyncGenerator\n",
    "from dotenv import load_dotenv\n",
    "from langchain_anthropic import ChatAnthropic\n",
    "from langchain_core.messages import BaseMessage, HumanMessage, AIMessage, SystemMessage, ToolMessage\n",
    "from langchain_core.tools import tool\n",
    "from langgraph.prebuilt import create_react_agent\n",
    "\n",
    "# 현재 프로젝트의 다른 모듈 임포트 (상대 경로 수정)\n",
    "import sys\n",
    "import os\n",
    "from tools import query_db_mcp\n",
    "from config import config\n"
   ]
  },
  {
   "cell_type": "code",
   "execution_count": 2,
   "id": "047e5273",
   "metadata": {},
   "outputs": [
    {
     "data": {
      "text/plain": [
       "True"
      ]
     },
     "execution_count": 2,
     "metadata": {},
     "output_type": "execute_result"
    }
   ],
   "source": [
    "\n",
    "# .env 파일에서 환경 변수 불러오기\n",
    "load_dotenv()\n"
   ]
  },
  {
   "cell_type": "code",
   "execution_count": 3,
   "id": "5e455f2b",
   "metadata": {},
   "outputs": [],
   "source": [
    "\n",
    "# --- 상수 정의 ---\n",
    "ANTHROPIC_API_KEY = os.environ.get(\"ANTHROPIC_API_KEY\")\n",
    "CLAUDE_MODEL = \"claude-sonnet-4-20250514\" #! 채팅용 모델 - 변경 절대금지\n",
    "CLAUDE_HAIKU_MODEL = \"claude-3-5-haiku-latest\"  #! 제목 생성용 경량 모델 - 변경 절대금지\n"
   ]
  },
  {
   "cell_type": "code",
   "execution_count": 4,
   "id": "2bafadcc",
   "metadata": {},
   "outputs": [],
   "source": [
    "\n",
    "# 동적 시스템 프롬프트 함수 (2025 베스트 프랙티스)\n",
    "def get_system_prompt() -> str:\n",
    "    \"\"\"GlucoBeat 의료 어시스턴트용 시스템 프롬프트 반환\"\"\"\n",
    "    return \"\"\"\n",
    "You are a helpful medical assistant named \"GlucoBeat\".\n",
    "You need to talk to users in a friendly and professional manner.\n",
    "Your primary role is to provide information and support related to blood sugar management and diabetes based on the user's data.\n",
    "But, do not use emoji. You have to provide information in a friendly and professional manner, without emojis.\n",
    "\n",
    "First, try to answer the user's question using the existing conversation history.\n",
    "If the user asks for specific data that is not in the conversation (e.g., \"what is my latest blood sugar?\", \"how much insulin did I take yesterday?\"), then you should use the `query_database` tool to get the information.\n",
    "You have access to a database with the following tables:\n",
    "- `cgm_records`: Contains the user's CGM (Continuous Glucose Monitoring) data.\n",
    "- `insulin_records`: Contains the user's insulin injection history.\n",
    "\n",
    "IMPORTANT: All queries MUST be for the user with `id = 1`.\n",
    "When generating SQL, use the following table schemas:\n",
    "- `cgm_records(time, id, cgm_value)`\n",
    "- `insulin_records(time, id, insulin_amount)`\n",
    "\n",
    "You must not provide a medical diagnosis. Always recommend that the user consult a doctor for any medical advice.\n",
    "\"\"\"\n"
   ]
  },
  {
   "cell_type": "code",
   "execution_count": 77,
   "id": "c6387e3e",
   "metadata": {},
   "outputs": [],
   "source": [
    "# --- LangChain 도구 정의 ---\n",
    "@tool\n",
    "async def query_database(query: str) -> str:\n",
    "    \"\"\"\n",
    "    Use this tool to query the user's health database to answer questions.\n",
    "    The input must be a valid SQL query for MySQL.\n",
    "    For example, to get the latest CGM value, use:\n",
    "    'SELECT cgm_value FROM cgm_records WHERE id = 1 ORDER BY time DESC LIMIT 1'\n",
    "    For yesterday's data, use:\n",
    "    'SELECT * FROM cgm_records WHERE id = 1 AND DATE(time) = DATE_SUB(CURDATE(), INTERVAL 1 DAY)'\n",
    "    \"\"\"\n",
    "    # print(f\"--- Executing Database Query via MCP ---\")\n",
    "    \n",
    "    # MySQL 문법 호환성을 위한 쿼리 변환\n",
    "    mysql_query = query.replace(\n",
    "        \"DATE('now', '-1 day')\", \n",
    "        \"DATE_SUB(CURDATE(), INTERVAL 1 DAY)\"\n",
    "    ).replace(\n",
    "        \"DATE('now')\", \n",
    "        \"CURDATE()\"\n",
    "    )\n",
    "    \n",
    "    # print(f\"Original SQL: {query}\")\n",
    "    # if mysql_query != query:\n",
    "    #     print(f\"MySQL Compatible SQL: {mysql_query}\")\n",
    "    \n",
    "    try:\n",
    "        result = await query_db_mcp(db_id=config.GLUCOBEAT_DB_ID, query=mysql_query)\n",
    "        # print(f\"Result: {result}\")\n",
    "        # LLM이 결과를 쉽게 이해하도록 문자열로 변환\n",
    "        return str(result)\n",
    "    except Exception as e:\n",
    "        # print(f\"Error executing query: {e}\")\n",
    "        return f\"Error: Could not retrieve data. {e}\"\n"
   ]
  },
  {
   "cell_type": "code",
   "execution_count": 78,
   "id": "bf0600a8",
   "metadata": {},
   "outputs": [],
   "source": [
    "tools = [query_database]\n",
    "\n",
    "llm = ChatAnthropic(model=CLAUDE_MODEL, api_key=ANTHROPIC_API_KEY)"
   ]
  },
  {
   "cell_type": "code",
   "execution_count": 79,
   "id": "c447ffe1",
   "metadata": {},
   "outputs": [],
   "source": [
    "app = create_react_agent(\n",
    "    model=llm,\n",
    "    tools=tools,\n",
    "    prompt=get_system_prompt()\n",
    ")\n",
    "\n",
    "# --- 테스트용 대화 기록 ---\n",
    "chat_history = [\n",
    "    {\"role\": \"user\", \"content\": \"3일 전 혈당 기록을 시간 순서대로 보여줘\"}\n",
    "]"
   ]
  },
  {
   "cell_type": "code",
   "execution_count": 80,
   "id": "389c93d9",
   "metadata": {},
   "outputs": [],
   "source": [
    "async def agent_chat_with_claude_stream(chat_history: List[Dict[str, str]]):\n",
    "    \"\"\"\n",
    "    채팅 기록을 받아서 AI 응답을 추가한 전체 대화 기록을 반환\n",
    "    \n",
    "    Args:\n",
    "        chat_history: [{\"role\": \"user\", \"content\": \"...\"}, {\"role\": \"assistant\", \"content\": \"...\"}]\n",
    "    \n",
    "    Yields:\n",
    "        Server-Sent Events (SSE) 형식의 JSON 문자열입니다.\n",
    "        이벤트 유형('text', 'tool_call', 'tool_result')에 따라 다른 데이터를 포함합니다.\n",
    "        예: 'data: {\"type\": \"text\", \"content\": \"...\"}\\n\\n'\n",
    "    \"\"\"\n",
    "    # 대화 기록을 LangChain 메시지 형식으로 변환\n",
    "    messages = []\n",
    "    for message in chat_history:\n",
    "        role = message.get(\"role\")\n",
    "        content = message.get(\"content\", \"\")\n",
    "        \n",
    "        if role == \"user\":\n",
    "            messages.append(HumanMessage(content=content))\n",
    "        elif role == \"assistant\":\n",
    "            messages.append(AIMessage(content=content))\n",
    "\n",
    "    # LangGraph Stateless 실행 (main.py chat_history 기반)\n",
    "    inputs = {\"messages\": messages}\n",
    "    \n",
    "    # 에이전트 실행 및 결과 추출 (메모리 없는 순수 처리)\n",
    "    async for event in app.astream_events(inputs, version='v2'):\n",
    "        kind = event[\"event\"]\n",
    "\n",
    "        # 1. LLM이 생성하는 텍스트/도구 호출 스트리밍\n",
    "        if kind == \"on_chat_model_stream\":\n",
    "            # Anthropic 모델의 chunk.content는 항상 content block의 리스트입니다.\n",
    "            for part in event[\"data\"][\"chunk\"].content:\n",
    "                # 텍스트 블록만 스트리밍합니다. (tool_use는 on_tool_start에서 처리)\n",
    "                if part.get(\"type\") == \"text\" and part.get(\"text\"):\n",
    "                    yield f\"data: {json.dumps({'type': 'text', 'content': part['text']}, ensure_ascii=False)}\\n\\n\"\n",
    "\n",
    "        # ✨ 2. (수정) 도구 호출 시작 시점 포착!\n",
    "        # on_chat_model_stream에서 tool_use를 처리하는 대신 on_tool_start를 사용합니다.\n",
    "        elif kind == \"on_tool_start\":\n",
    "            response_json = {\n",
    "                \"type\": \"tool_call\",\n",
    "                \"content\": {\n",
    "                    \"name\": event[\"name\"],\n",
    "                    \"args\": event[\"data\"].get(\"input\") # 이 이벤트에는 모든 인자가 포함되어 있습니다.\n",
    "                }\n",
    "            }\n",
    "            yield f\"data: {json.dumps(response_json, ensure_ascii=False)}\\n\\n\"\n",
    "\n",
    "        # 3. 도구 실행 결과 스트리밍 (수정 없음)\n",
    "        elif kind == \"on_tool_end\":\n",
    "            response_json = {\n",
    "                \"type\": \"tool_result\",\n",
    "                \"content\": {\n",
    "                    \"name\": event[\"name\"],\n",
    "                    \"output\": str(event[\"data\"].get(\"output\"))\n",
    "                }\n",
    "            }\n",
    "            yield f\"data: {json.dumps(response_json, ensure_ascii=False)}\\n\\n\"\n"
   ]
  },
  {
   "cell_type": "code",
   "execution_count": 81,
   "id": "f472fd9d",
   "metadata": {},
   "outputs": [
    {
     "name": "stdout",
     "output_type": "stream",
     "text": [
      "data: {\"type\": \"text\", \"content\": \"어제의\"}\n",
      "\n",
      "||data: {\"type\": \"text\", \"content\": \" 혈당 수치를\"}\n",
      "\n",
      "||data: {\"type\": \"text\", \"content\": \" 확인해드리겠습니다.\"}\n",
      "\n",
      "||data: {\"type\": \"tool_call\", \"content\": {\"name\": \"query_database\", \"args\": {\"query\": \"SELECT TIME(time) as measurement_time, cgm_value FROM cgm_records WHERE id = 1 AND DATE(time) = DATE_SUB(CURDATE(), INTERVAL 1 DAY) ORDER BY time\"}}}\n",
      "\n",
      "||data: {\"type\": \"tool_result\", \"content\": {\"name\": \"query_database\", \"output\": \"content=\\\"{'columns': ['measurement_time', 'cgm_value'], 'rows': []}\\\" name='query_database' tool_call_id='toolu_01DnoV3i5iKhminNPKUy2hTw'\"}}\n",
      "\n",
      "||data: {\"type\": \"text\", \"content\": \"어\"}\n",
      "\n",
      "||data: {\"type\": \"text\", \"content\": \"제 기록된 혈당 수치가 없는 것 같습니다.\"}\n",
      "\n",
      "||data: {\"type\": \"text\", \"content\": \" 혹시 CGM 기기가 제대로 작동하고\"}\n",
      "\n",
      "||data: {\"type\": \"text\", \"content\": \" 있는지 확인해보시겠어요?\\n\\n최\"}\n",
      "\n",
      "||data: {\"type\": \"text\", \"content\": \"근 며칠간의 혈당 데이터가\"}\n",
      "\n",
      "||data: {\"type\": \"text\", \"content\": \" 있는지 확인해보겠습니다.\"}\n",
      "\n",
      "||data: {\"type\": \"tool_call\", \"content\": {\"name\": \"query_database\", \"args\": {\"query\": \"SELECT DATE(time) as date, COUNT(*) as reading_count, MIN(cgm_value) as min_glucose, MAX(cgm_value) as max_glucose, AVG(cgm_value) as avg_glucose FROM cgm_records WHERE id = 1 AND time >= DATE_SUB(CURDATE(), INTERVAL 7 DAY) GROUP BY DATE(time) ORDER BY date DESC\"}}}\n",
      "\n",
      "||data: {\"type\": \"tool_result\", \"content\": {\"name\": \"query_database\", \"output\": \"content=\\\"{'columns': ['date', 'reading_count', 'min_glucose', 'max_glucose', 'avg_glucose'], 'rows': []}\\\" name='query_database' tool_call_id='toolu_01CDuuRoeNvTQbigWUdFi5CA'\"}}\n",
      "\n",
      "||data: {\"type\": \"text\", \"content\": \"최\"}\n",
      "\n",
      "||data: {\"type\": \"text\", \"content\": \"근 7일간의 혈당 데이\"}\n",
      "\n",
      "||data: {\"type\": \"text\", \"content\": \"터도 확인되지 않네\"}\n",
      "\n",
      "||data: {\"type\": \"text\", \"content\": \"요. 혈당 모니터링 기기에\"}\n",
      "\n",
      "||data: {\"type\": \"text\", \"content\": \" 문제가 있을 수 있습니다.\\n\\n다\"}\n",
      "\n",
      "||data: {\"type\": \"text\", \"content\": \"음 사항들을 확인해보\"}\n",
      "\n",
      "||data: {\"type\": \"text\", \"content\": \"시기 바랍니다:\\n\\n1. **CG\"}\n",
      "\n",
      "||data: {\"type\": \"text\", \"content\": \"M 센서 상태**: 센서가 제대로 부\"}\n",
      "\n",
      "||data: {\"type\": \"text\", \"content\": \"착되어 있는지, 만료되지 않았는지 확인\"}\n",
      "\n",
      "||data: {\"type\": \"text\", \"content\": \"\\n2. **기기 연결**: 혈당 측\"}\n",
      "\n",
      "||data: {\"type\": \"text\", \"content\": \"정기나 CGM 기기가 \"}\n",
      "\n",
      "||data: {\"type\": \"text\", \"content\": \"앱과 제대로 연결되어 \"}\n",
      "\n",
      "||data: {\"type\": \"text\", \"content\": \"있는지 확인\\n3. **데\"}\n",
      "\n",
      "||data: {\"type\": \"text\", \"content\": \"이터 동기화**: 기\"}\n",
      "\n",
      "||data: {\"type\": \"text\", \"content\": \"기의 데이터가 정상적으로 동기화되\"}\n",
      "\n",
      "||data: {\"type\": \"text\", \"content\": \"고 있는지 확인\\n\\n혈당 수치가 \"}\n",
      "\n",
      "||data: {\"type\": \"text\", \"content\": \"기록되지 않는 문제가 지\"}\n",
      "\n",
      "||data: {\"type\": \"text\", \"content\": \"속된다면, 의료진과 상담하시는\"}\n",
      "\n",
      "||data: {\"type\": \"text\", \"content\": \" 것을 권장합니다. 정\"}\n",
      "\n",
      "||data: {\"type\": \"text\", \"content\": \"확한 혈당 모니터링은 당\"}\n",
      "\n",
      "||data: {\"type\": \"text\", \"content\": \"뇨병 관리에 매\"}\n",
      "\n",
      "||data: {\"type\": \"text\", \"content\": \"우 중요합니다.\"}\n",
      "\n",
      "||"
     ]
    }
   ],
   "source": [
    "# 스트리밍 함수를 호출하고 결과를 실시간으로 출력\n",
    "async for chunk in agent_chat_with_claude_stream([{\"role\":\"user\", \"content\" : \"어제 혈당 수치를 정리해 주세요.\"}]):\n",
    "    print(chunk, end=\"||\", flush = True)\n",
    "    \n",
    "# 크게 세 가지로 구성 - text, tool_call, tool_result\n"
   ]
  },
  {
   "cell_type": "code",
   "execution_count": 82,
   "id": "99c02401",
   "metadata": {},
   "outputs": [],
   "source": [
    "async def agent_chat_with_claude(chat_history: List[Dict[str, str]]) -> List[Dict[str, str]]:\n",
    "    \"\"\"\n",
    "    채팅 기록을 받아서 AI 응답을 추가한 전체 대화 기록을 반환\n",
    "    \n",
    "    Args:\n",
    "        chat_history: [{\"role\": \"user\", \"content\": \"...\"}, {\"role\": \"assistant\", \"content\": \"...\"}]\n",
    "    \n",
    "    Returns:\n",
    "        chat_history + [{\"role\": \"assistant\", \"content\": \"AI 응답\"}]\n",
    "    \"\"\"\n",
    "    if not chat_history:\n",
    "        return [{\"role\": \"assistant\", \"content\": \"대화 기록이 비어있습니다.\"}]\n",
    "\n",
    "    try:\n",
    "        # 대화 기록을 LangChain 메시지 형식으로 변환\n",
    "        messages = []\n",
    "        for message in chat_history:\n",
    "            role = message.get(\"role\")\n",
    "            content = message.get(\"content\", \"\")\n",
    "            \n",
    "            if role == \"user\":\n",
    "                messages.append(HumanMessage(content=content))\n",
    "            elif role == \"assistant\":\n",
    "                messages.append(AIMessage(content=content))\n",
    "\n",
    "        # LangGraph Stateless 실행 (main.py chat_history 기반)\n",
    "        inputs = {\"messages\": messages}\n",
    "        \n",
    "        # 에이전트 실행 및 결과 추출 (메모리 없는 순수 처리)\n",
    "        result = await app.ainvoke(inputs)\n",
    "        final_messages = result.get(\"messages\", [])\n",
    "        \n",
    "        updated_history = []\n",
    "        \n",
    "        for msg in final_messages:\n",
    "            if isinstance(msg, AIMessage):\n",
    "                # AIMessage content 처리 개선\n",
    "                content = msg.content\n",
    "                if isinstance(content, list):\n",
    "                    # Claude의 복합 응답 (text + tool_use)\n",
    "                    text_parts = [part.get('text', '') for part in content if isinstance(part, dict) and part.get('type') == 'text']\n",
    "                    final_text = ' '.join(text_parts) if text_parts else str(content)\n",
    "                    updated_history.append({\"role\": \"assistant\", \"content\": final_text})\n",
    "                else:\n",
    "                    # 단순 텍스트 응답\n",
    "                    updated_history.append({\"role\": \"assistant\", \"content\": str(content)})\n",
    "            elif isinstance(msg, ToolMessage):\n",
    "                # Tool 메시지는 role을 \"tool\"로 설정하여 구분\n",
    "                updated_history.append({\"role\": \"tool\", \"content\": str(msg.content)})\n",
    "            elif hasattr(msg, 'content'):  # 기타 메시지 타입\n",
    "                updated_history.append({\"role\": \"system\", \"content\": str(msg.content)})\n",
    "        \n",
    "        # 만약 응답이 없다면 기본 메시지 추가\n",
    "        if not final_messages:\n",
    "            updated_history.append({\"role\": \"assistant\", \"content\": \"응답을 생성하지 못했습니다.\"})\n",
    "        \n",
    "        return updated_history\n",
    "        \n",
    "    except Exception as e:\n",
    "        print(f\"LangGraph execution error: {e}\")\n",
    "        # 에러 발생 시에도 기존 대화 기록에 에러 메시지 추가\n",
    "        error_history = chat_history.copy()\n",
    "        error_history.append({\n",
    "            \"role\": \"assistant\", \n",
    "            \"content\": f\"죄송합니다. 처리 중 오류가 발생했습니다: {str(e)}\"\n",
    "        })\n",
    "        return error_history\n"
   ]
  },
  {
   "cell_type": "code",
   "execution_count": 83,
   "id": "a75311cb",
   "metadata": {},
   "outputs": [
    {
     "data": {
      "text/plain": [
       "[{'role': 'system', 'content': '어제 혈당 수치를 정리해 주세요.'},\n",
       " {'role': 'assistant', 'content': '어제의 혈당 수치를 조회해서 정리해드리겠습니다.'},\n",
       " {'role': 'tool', 'content': \"{'columns': ['time', 'cgm_value'], 'rows': []}\"},\n",
       " {'role': 'assistant',\n",
       "  'content': '어제의 혈당 데이터가 없는 것 같습니다. 혹시 다른 날짜의 데이터를 확인해보시겠습니까? \\n\\n최근 며칠간의 혈당 수치를 확인해보거나, 특정 날짜의 데이터를 원하시면 말씀해 주세요. 또는 현재 사용 가능한 혈당 기록이 있는지 확인해보겠습니다.'},\n",
       " {'role': 'tool',\n",
       "  'content': \"{'columns': ['date', 'record_count'], 'rows': [{'date': '2025-06-29', 'record_count': 3}, {'date': '2025-06-25', 'record_count': 1}]}\"},\n",
       " {'role': 'assistant',\n",
       "  'content': '데이터베이스를 확인한 결과, 어제(2025-06-29 기준으로 전날) 기록이 없고, 현재 다음 날짜들의 혈당 기록이 있습니다:\\n\\n- 2025년 6월 29일: 3개 기록\\n- 2025년 6월 25일: 1개 기록\\n\\n이 중 어떤 날짜의 혈당 수치를 정리해드릴까요? 아니면 가장 최근 기록인 6월 29일의 데이터를 보여드릴까요?'}]"
      ]
     },
     "execution_count": 83,
     "metadata": {},
     "output_type": "execute_result"
    }
   ],
   "source": [
    "await agent_chat_with_claude([{\"role\":\"user\", \"content\" : \"어제 혈당 수치를 정리해 주세요.\"}])"
   ]
  },
  {
   "cell_type": "code",
   "execution_count": null,
   "id": "440a79ec",
   "metadata": {},
   "outputs": [],
   "source": []
  }
 ],
 "metadata": {
  "kernelspec": {
   "display_name": "base",
   "language": "python",
   "name": "python3"
  },
  "language_info": {
   "codemirror_mode": {
    "name": "ipython",
    "version": 3
   },
   "file_extension": ".py",
   "mimetype": "text/x-python",
   "name": "python",
   "nbconvert_exporter": "python",
   "pygments_lexer": "ipython3",
   "version": "3.12.7"
  }
 },
 "nbformat": 4,
 "nbformat_minor": 5
}
